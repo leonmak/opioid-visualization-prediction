{
 "cells": [
  {
   "cell_type": "code",
   "execution_count": 227,
   "metadata": {
    "collapsed": true
   },
   "outputs": [],
   "source": [
    "import pandas as pd\n",
    "import numpy as np\n",
    "import h2o\n",
    "from h2o.estimators.glm import H2OGeneralizedLinearEstimator\n",
    "from h2o.estimators.gbm import H2OGradientBoostingEstimator"
   ]
  },
  {
   "cell_type": "code",
   "execution_count": 373,
   "metadata": {
    "collapsed": true
   },
   "outputs": [],
   "source": [
    "fips_mapping = pd.read_csv('./Clean Data/countystate-fips.csv')"
   ]
  },
  {
   "cell_type": "code",
   "execution_count": 389,
   "metadata": {
    "collapsed": true
   },
   "outputs": [],
   "source": [
    "y = pd.read_csv('./Clean Data/Death.csv', dtype={'County':str})"
   ]
  },
  {
   "cell_type": "code",
   "execution_count": 390,
   "metadata": {
    "collapsed": true
   },
   "outputs": [],
   "source": [
    "y_1 = y.copy()\n",
    "y_2 = y.copy()"
   ]
  },
  {
   "cell_type": "code",
   "execution_count": null,
   "metadata": {},
   "outputs": [],
   "source": [
    "y['County'], y['State'] = y_1['County'].str.split(', ', 1).str\n",
    "y['County'] = y['County'].apply(lambda x: str(x).split(' ')[0])"
   ]
  },
  {
   "cell_type": "code",
   "execution_count": null,
   "metadata": {
    "scrolled": true
   },
   "outputs": [],
   "source": [
    "y_1['County'], y_1['State'] = y_1['County'].str.split(', ', 1).str\n",
    "y_1['County'] = y_1['County'].apply(lambda x: str(x).split(' ')[0])\n",
    "y_1['year'] = y_1['year'] + 1\n"
   ]
  },
  {
   "cell_type": "code",
   "execution_count": 393,
   "metadata": {
    "scrolled": true
   },
   "outputs": [],
   "source": [
    "y_merged = pd.merge(y, y_1[['County', 'year', 'Deaths', 'Population', 'death_perpop', 'State']], how='inner', on=['year', 'County', 'State'])"
   ]
  },
  {
   "cell_type": "code",
   "execution_count": 397,
   "metadata": {
    "scrolled": false
   },
   "outputs": [
    {
     "data": {
      "text/html": [
       "<div>\n",
       "<style scoped>\n",
       "    .dataframe tbody tr th:only-of-type {\n",
       "        vertical-align: middle;\n",
       "    }\n",
       "\n",
       "    .dataframe tbody tr th {\n",
       "        vertical-align: top;\n",
       "    }\n",
       "\n",
       "    .dataframe thead th {\n",
       "        text-align: right;\n",
       "    }\n",
       "</style>\n",
       "<table border=\"1\" class=\"dataframe\">\n",
       "  <thead>\n",
       "    <tr style=\"text-align: right;\">\n",
       "      <th></th>\n",
       "      <th>County</th>\n",
       "      <th>State</th>\n",
       "      <th>year</th>\n",
       "      <th>death_perpop_x</th>\n",
       "      <th>Deaths_y</th>\n",
       "      <th>Population_y</th>\n",
       "      <th>death_perpop_y</th>\n",
       "    </tr>\n",
       "  </thead>\n",
       "  <tbody>\n",
       "    <tr>\n",
       "      <th>0</th>\n",
       "      <td>Ada</td>\n",
       "      <td>ID</td>\n",
       "      <td>2012</td>\n",
       "      <td>0.004400</td>\n",
       "      <td>47</td>\n",
       "      <td>1202526</td>\n",
       "      <td>0.003908</td>\n",
       "    </tr>\n",
       "    <tr>\n",
       "      <th>1</th>\n",
       "      <td>Ada</td>\n",
       "      <td>ID</td>\n",
       "      <td>2013</td>\n",
       "      <td>0.004962</td>\n",
       "      <td>18</td>\n",
       "      <td>409061</td>\n",
       "      <td>0.004400</td>\n",
       "    </tr>\n",
       "    <tr>\n",
       "      <th>2</th>\n",
       "      <td>Ada</td>\n",
       "      <td>ID</td>\n",
       "      <td>2014</td>\n",
       "      <td>0.004082</td>\n",
       "      <td>62</td>\n",
       "      <td>1249392</td>\n",
       "      <td>0.004962</td>\n",
       "    </tr>\n",
       "    <tr>\n",
       "      <th>3</th>\n",
       "      <td>Ada</td>\n",
       "      <td>ID</td>\n",
       "      <td>2015</td>\n",
       "      <td>0.002418</td>\n",
       "      <td>87</td>\n",
       "      <td>2131180</td>\n",
       "      <td>0.004082</td>\n",
       "    </tr>\n",
       "    <tr>\n",
       "      <th>4</th>\n",
       "      <td>Adams</td>\n",
       "      <td>CO</td>\n",
       "      <td>2012</td>\n",
       "      <td>0.004460</td>\n",
       "      <td>138</td>\n",
       "      <td>2708658</td>\n",
       "      <td>0.005095</td>\n",
       "    </tr>\n",
       "  </tbody>\n",
       "</table>\n",
       "</div>"
      ],
      "text/plain": [
       "  County State  year  death_perpop_x  Deaths_y  Population_y  death_perpop_y\n",
       "0    Ada    ID  2012        0.004400        47       1202526        0.003908\n",
       "1    Ada    ID  2013        0.004962        18        409061        0.004400\n",
       "2    Ada    ID  2014        0.004082        62       1249392        0.004962\n",
       "3    Ada    ID  2015        0.002418        87       2131180        0.004082\n",
       "4  Adams    CO  2012        0.004460       138       2708658        0.005095"
      ]
     },
     "execution_count": 397,
     "metadata": {},
     "output_type": "execute_result"
    }
   ],
   "source": [
    "y_selected = y_merged[['County', 'State', 'year', 'death_perpop_x', 'Deaths_y', 'Population_y','death_perpop_y']]"
   ]
  },
  {
   "cell_type": "code",
   "execution_count": 398,
   "metadata": {
    "collapsed": true
   },
   "outputs": [],
   "source": [
    "y_selected.columns = ['County', 'State', 'year', 'actual_death_perpop', 'last_year_num_deaths', 'last_year_pop', 'last_year_death_perpop']"
   ]
  },
  {
   "cell_type": "code",
   "execution_count": 399,
   "metadata": {},
   "outputs": [
    {
     "name": "stderr",
     "output_type": "stream",
     "text": [
      "//anaconda/lib/python3.5/site-packages/ipykernel/__main__.py:1: SettingWithCopyWarning: \n",
      "A value is trying to be set on a copy of a slice from a DataFrame.\n",
      "Try using .loc[row_indexer,col_indexer] = value instead\n",
      "\n",
      "See the caveats in the documentation: http://pandas.pydata.org/pandas-docs/stable/indexing.html#indexing-view-versus-copy\n",
      "  if __name__ == '__main__':\n"
     ]
    },
    {
     "data": {
      "text/html": [
       "<div>\n",
       "<style scoped>\n",
       "    .dataframe tbody tr th:only-of-type {\n",
       "        vertical-align: middle;\n",
       "    }\n",
       "\n",
       "    .dataframe tbody tr th {\n",
       "        vertical-align: top;\n",
       "    }\n",
       "\n",
       "    .dataframe thead th {\n",
       "        text-align: right;\n",
       "    }\n",
       "</style>\n",
       "<table border=\"1\" class=\"dataframe\">\n",
       "  <thead>\n",
       "    <tr style=\"text-align: right;\">\n",
       "      <th></th>\n",
       "      <th>County</th>\n",
       "      <th>State</th>\n",
       "      <th>year</th>\n",
       "      <th>actual_death_perpop</th>\n",
       "      <th>last_year_num_deaths</th>\n",
       "      <th>last_year_pop</th>\n",
       "      <th>last_year_death_perpop</th>\n",
       "    </tr>\n",
       "  </thead>\n",
       "  <tbody>\n",
       "    <tr>\n",
       "      <th>0</th>\n",
       "      <td>Ada</td>\n",
       "      <td>ID</td>\n",
       "      <td>2011</td>\n",
       "      <td>0.004400</td>\n",
       "      <td>47</td>\n",
       "      <td>1202526</td>\n",
       "      <td>0.003908</td>\n",
       "    </tr>\n",
       "    <tr>\n",
       "      <th>1</th>\n",
       "      <td>Ada</td>\n",
       "      <td>ID</td>\n",
       "      <td>2012</td>\n",
       "      <td>0.004962</td>\n",
       "      <td>18</td>\n",
       "      <td>409061</td>\n",
       "      <td>0.004400</td>\n",
       "    </tr>\n",
       "    <tr>\n",
       "      <th>2</th>\n",
       "      <td>Ada</td>\n",
       "      <td>ID</td>\n",
       "      <td>2013</td>\n",
       "      <td>0.004082</td>\n",
       "      <td>62</td>\n",
       "      <td>1249392</td>\n",
       "      <td>0.004962</td>\n",
       "    </tr>\n",
       "    <tr>\n",
       "      <th>3</th>\n",
       "      <td>Ada</td>\n",
       "      <td>ID</td>\n",
       "      <td>2014</td>\n",
       "      <td>0.002418</td>\n",
       "      <td>87</td>\n",
       "      <td>2131180</td>\n",
       "      <td>0.004082</td>\n",
       "    </tr>\n",
       "    <tr>\n",
       "      <th>4</th>\n",
       "      <td>Adams</td>\n",
       "      <td>CO</td>\n",
       "      <td>2011</td>\n",
       "      <td>0.004460</td>\n",
       "      <td>138</td>\n",
       "      <td>2708658</td>\n",
       "      <td>0.005095</td>\n",
       "    </tr>\n",
       "  </tbody>\n",
       "</table>\n",
       "</div>"
      ],
      "text/plain": [
       "  County State  year  actual_death_perpop  last_year_num_deaths  \\\n",
       "0    Ada    ID  2011             0.004400                    47   \n",
       "1    Ada    ID  2012             0.004962                    18   \n",
       "2    Ada    ID  2013             0.004082                    62   \n",
       "3    Ada    ID  2014             0.002418                    87   \n",
       "4  Adams    CO  2011             0.004460                   138   \n",
       "\n",
       "   last_year_pop  last_year_death_perpop  \n",
       "0        1202526                0.003908  \n",
       "1         409061                0.004400  \n",
       "2        1249392                0.004962  \n",
       "3        2131180                0.004082  \n",
       "4        2708658                0.005095  "
      ]
     },
     "execution_count": 399,
     "metadata": {},
     "output_type": "execute_result"
    }
   ],
   "source": [
    "y_selected['year'] = y_selected['year'] - 1\n",
    "y_selected.head()"
   ]
  },
  {
   "cell_type": "code",
   "execution_count": 400,
   "metadata": {
    "scrolled": true
   },
   "outputs": [
    {
     "name": "stdout",
     "output_type": "stream",
     "text": [
      "1612\n"
     ]
    },
    {
     "data": {
      "text/html": [
       "<div>\n",
       "<style scoped>\n",
       "    .dataframe tbody tr th:only-of-type {\n",
       "        vertical-align: middle;\n",
       "    }\n",
       "\n",
       "    .dataframe tbody tr th {\n",
       "        vertical-align: top;\n",
       "    }\n",
       "\n",
       "    .dataframe thead th {\n",
       "        text-align: right;\n",
       "    }\n",
       "</style>\n",
       "<table border=\"1\" class=\"dataframe\">\n",
       "  <thead>\n",
       "    <tr style=\"text-align: right;\">\n",
       "      <th></th>\n",
       "      <th>County</th>\n",
       "      <th>State</th>\n",
       "      <th>year</th>\n",
       "      <th>actual_death_perpop</th>\n",
       "      <th>last_year_num_deaths</th>\n",
       "      <th>last_year_pop</th>\n",
       "      <th>last_year_death_perpop</th>\n",
       "      <th>fips</th>\n",
       "    </tr>\n",
       "  </thead>\n",
       "  <tbody>\n",
       "    <tr>\n",
       "      <th>0</th>\n",
       "      <td>Ada</td>\n",
       "      <td>ID</td>\n",
       "      <td>2011</td>\n",
       "      <td>0.004400</td>\n",
       "      <td>47</td>\n",
       "      <td>1202526</td>\n",
       "      <td>0.003908</td>\n",
       "      <td>16001</td>\n",
       "    </tr>\n",
       "    <tr>\n",
       "      <th>1</th>\n",
       "      <td>Ada</td>\n",
       "      <td>ID</td>\n",
       "      <td>2012</td>\n",
       "      <td>0.004962</td>\n",
       "      <td>18</td>\n",
       "      <td>409061</td>\n",
       "      <td>0.004400</td>\n",
       "      <td>16001</td>\n",
       "    </tr>\n",
       "    <tr>\n",
       "      <th>2</th>\n",
       "      <td>Ada</td>\n",
       "      <td>ID</td>\n",
       "      <td>2013</td>\n",
       "      <td>0.004082</td>\n",
       "      <td>62</td>\n",
       "      <td>1249392</td>\n",
       "      <td>0.004962</td>\n",
       "      <td>16001</td>\n",
       "    </tr>\n",
       "    <tr>\n",
       "      <th>3</th>\n",
       "      <td>Ada</td>\n",
       "      <td>ID</td>\n",
       "      <td>2014</td>\n",
       "      <td>0.002418</td>\n",
       "      <td>87</td>\n",
       "      <td>2131180</td>\n",
       "      <td>0.004082</td>\n",
       "      <td>16001</td>\n",
       "    </tr>\n",
       "    <tr>\n",
       "      <th>4</th>\n",
       "      <td>Adams</td>\n",
       "      <td>CO</td>\n",
       "      <td>2011</td>\n",
       "      <td>0.004460</td>\n",
       "      <td>138</td>\n",
       "      <td>2708658</td>\n",
       "      <td>0.005095</td>\n",
       "      <td>08001</td>\n",
       "    </tr>\n",
       "  </tbody>\n",
       "</table>\n",
       "</div>"
      ],
      "text/plain": [
       "  County State  year  actual_death_perpop  last_year_num_deaths  \\\n",
       "0    Ada    ID  2011             0.004400                    47   \n",
       "1    Ada    ID  2012             0.004962                    18   \n",
       "2    Ada    ID  2013             0.004082                    62   \n",
       "3    Ada    ID  2014             0.002418                    87   \n",
       "4  Adams    CO  2011             0.004460                   138   \n",
       "\n",
       "   last_year_pop  last_year_death_perpop   fips  \n",
       "0        1202526                0.003908  16001  \n",
       "1         409061                0.004400  16001  \n",
       "2        1249392                0.004962  16001  \n",
       "3        2131180                0.004082  16001  \n",
       "4        2708658                0.005095  08001  "
      ]
     },
     "execution_count": 400,
     "metadata": {},
     "output_type": "execute_result"
    }
   ],
   "source": [
    "y = pd.merge(y_selected, fips_mapping, on=['County', 'State'], how='inner')\n",
    "y['fips'] = y['fips'].apply(lambda x: (5-len(str(x)))*'0' + str(x) if len(str(x)) < 5  else str(x))\n",
    "y.head()"
   ]
  },
  {
   "cell_type": "code",
   "execution_count": 401,
   "metadata": {
    "scrolled": false
   },
   "outputs": [],
   "source": [
    "x1 = pd.read_csv('./Clean Data/opioidclaims_final.csv',dtype={'fips':str})\n",
    "x2 = pd.read_csv('./Clean Data/unemployed_final.csv')\n",
    "x3 = pd.read_csv('./Clean Data/violentcrimes_final.csv')\n",
    "x4 = pd.read_csv('./Clean Data/loans_final_2.csv',dtype={'fips':str})\n",
    "\n",
    "x1['fips'] = x1['fips'].apply(lambda x: (5-len(str(x)))*'0' + str(x) if len(str(x)) < 5  else str(x))\n",
    "x2['fips'] = x2['fips'].apply(lambda x: (5-len(str(x)))*'0' + str(x) if len(str(x)) < 5  else str(x))\n",
    "x3['fips'] = x3['fips'].apply(lambda x: (5-len(str(x)))*'0' + str(x) if len(str(x)) < 5  else str(x))\n",
    "x4['fips'] = x4['fips'].apply(lambda x: (5-len(str(x)))*'0' + str(x) if len(str(x)) < 5  else str(x))"
   ]
  },
  {
   "cell_type": "code",
   "execution_count": 403,
   "metadata": {
    "scrolled": true
   },
   "outputs": [
    {
     "data": {
      "text/plain": [
       "1088"
      ]
     },
     "execution_count": 403,
     "metadata": {},
     "output_type": "execute_result"
    }
   ],
   "source": [
    "df = pd.merge(x1[['year', 'fips', 'opioid_prescribe_perc']],x2[['year', 'fips', 'Unemployment Rate']], on=['year', 'fips'], how='inner')\n",
    "df = pd.merge(df,x3[['year', 'fips', 'total_crimes']], on=['year', 'fips'], how='inner')\n",
    "df = pd.merge(df,x4[['year', 'fips', 'num_bank_loans', 'bank_loan_sum']], on=['year', 'fips'], how='inner')\n",
    "df = pd.merge(df, y[['year', 'fips', 'last_year_num_deaths', 'last_year_pop', 'last_year_death_perpop', 'actual_death_perpop']],on=['year', 'fips'], how='inner')"
   ]
  },
  {
   "cell_type": "code",
   "execution_count": 404,
   "metadata": {},
   "outputs": [
    {
     "data": {
      "text/html": [
       "<div>\n",
       "<style scoped>\n",
       "    .dataframe tbody tr th:only-of-type {\n",
       "        vertical-align: middle;\n",
       "    }\n",
       "\n",
       "    .dataframe tbody tr th {\n",
       "        vertical-align: top;\n",
       "    }\n",
       "\n",
       "    .dataframe thead th {\n",
       "        text-align: right;\n",
       "    }\n",
       "</style>\n",
       "<table border=\"1\" class=\"dataframe\">\n",
       "  <thead>\n",
       "    <tr style=\"text-align: right;\">\n",
       "      <th></th>\n",
       "      <th>year</th>\n",
       "      <th>fips</th>\n",
       "      <th>opioid_prescribe_perc</th>\n",
       "      <th>Unemployment Rate</th>\n",
       "      <th>total_crimes</th>\n",
       "      <th>num_bank_loans</th>\n",
       "      <th>bank_loan_sum</th>\n",
       "      <th>last_year_num_deaths</th>\n",
       "      <th>last_year_pop</th>\n",
       "      <th>last_year_death_perpop</th>\n",
       "      <th>actual_death_perpop</th>\n",
       "    </tr>\n",
       "  </thead>\n",
       "  <tbody>\n",
       "    <tr>\n",
       "      <th>0</th>\n",
       "      <td>2013</td>\n",
       "      <td>01043</td>\n",
       "      <td>7.254990</td>\n",
       "      <td>6.7</td>\n",
       "      <td>0</td>\n",
       "      <td>1</td>\n",
       "      <td>280000</td>\n",
       "      <td>15</td>\n",
       "      <td>80811</td>\n",
       "      <td>0.018562</td>\n",
       "      <td>0.028294</td>\n",
       "    </tr>\n",
       "    <tr>\n",
       "      <th>1</th>\n",
       "      <td>2013</td>\n",
       "      <td>01073</td>\n",
       "      <td>7.567119</td>\n",
       "      <td>6.7</td>\n",
       "      <td>0</td>\n",
       "      <td>3</td>\n",
       "      <td>611500</td>\n",
       "      <td>233</td>\n",
       "      <td>5935311</td>\n",
       "      <td>0.003926</td>\n",
       "      <td>0.007635</td>\n",
       "    </tr>\n",
       "    <tr>\n",
       "      <th>2</th>\n",
       "      <td>2013</td>\n",
       "      <td>01089</td>\n",
       "      <td>7.321607</td>\n",
       "      <td>6.3</td>\n",
       "      <td>0</td>\n",
       "      <td>3</td>\n",
       "      <td>526600</td>\n",
       "      <td>17</td>\n",
       "      <td>346892</td>\n",
       "      <td>0.004901</td>\n",
       "      <td>0.005138</td>\n",
       "    </tr>\n",
       "    <tr>\n",
       "      <th>3</th>\n",
       "      <td>2013</td>\n",
       "      <td>01117</td>\n",
       "      <td>7.549260</td>\n",
       "      <td>4.6</td>\n",
       "      <td>0</td>\n",
       "      <td>4</td>\n",
       "      <td>560500</td>\n",
       "      <td>24</td>\n",
       "      <td>204180</td>\n",
       "      <td>0.011754</td>\n",
       "      <td>0.006775</td>\n",
       "    </tr>\n",
       "    <tr>\n",
       "      <th>4</th>\n",
       "      <td>2013</td>\n",
       "      <td>04013</td>\n",
       "      <td>6.954345</td>\n",
       "      <td>6.6</td>\n",
       "      <td>191643</td>\n",
       "      <td>59</td>\n",
       "      <td>13449514</td>\n",
       "      <td>1231</td>\n",
       "      <td>72169416</td>\n",
       "      <td>0.001706</td>\n",
       "      <td>0.001820</td>\n",
       "    </tr>\n",
       "  </tbody>\n",
       "</table>\n",
       "</div>"
      ],
      "text/plain": [
       "   year   fips  opioid_prescribe_perc  Unemployment Rate  total_crimes  \\\n",
       "0  2013  01043               7.254990                6.7             0   \n",
       "1  2013  01073               7.567119                6.7             0   \n",
       "2  2013  01089               7.321607                6.3             0   \n",
       "3  2013  01117               7.549260                4.6             0   \n",
       "4  2013  04013               6.954345                6.6        191643   \n",
       "\n",
       "   num_bank_loans  bank_loan_sum  last_year_num_deaths  last_year_pop  \\\n",
       "0               1         280000                    15          80811   \n",
       "1               3         611500                   233        5935311   \n",
       "2               3         526600                    17         346892   \n",
       "3               4         560500                    24         204180   \n",
       "4              59       13449514                  1231       72169416   \n",
       "\n",
       "   last_year_death_perpop  actual_death_perpop  \n",
       "0                0.018562             0.028294  \n",
       "1                0.003926             0.007635  \n",
       "2                0.004901             0.005138  \n",
       "3                0.011754             0.006775  \n",
       "4                0.001706             0.001820  "
      ]
     },
     "execution_count": 404,
     "metadata": {},
     "output_type": "execute_result"
    }
   ],
   "source": [
    "df.head()"
   ]
  },
  {
   "cell_type": "code",
   "execution_count": 239,
   "metadata": {},
   "outputs": [
    {
     "name": "stdout",
     "output_type": "stream",
     "text": [
      "Checking whether there is an H2O instance running at http://localhost:54321. connected.\n"
     ]
    },
    {
     "data": {
      "text/html": [
       "<div style=\"overflow:auto\"><table style=\"width:50%\"><tr><td>H2O cluster uptime:</td>\n",
       "<td>10 hours 2 mins</td></tr>\n",
       "<tr><td>H2O cluster timezone:</td>\n",
       "<td>America/Los_Angeles</td></tr>\n",
       "<tr><td>H2O data parsing timezone:</td>\n",
       "<td>UTC</td></tr>\n",
       "<tr><td>H2O cluster version:</td>\n",
       "<td>3.18.0.8</td></tr>\n",
       "<tr><td>H2O cluster version age:</td>\n",
       "<td>16 days </td></tr>\n",
       "<tr><td>H2O cluster name:</td>\n",
       "<td>H2O_from_python_rhynadesee_7y38e2</td></tr>\n",
       "<tr><td>H2O cluster total nodes:</td>\n",
       "<td>1</td></tr>\n",
       "<tr><td>H2O cluster free memory:</td>\n",
       "<td>1.645 Gb</td></tr>\n",
       "<tr><td>H2O cluster total cores:</td>\n",
       "<td>4</td></tr>\n",
       "<tr><td>H2O cluster allowed cores:</td>\n",
       "<td>4</td></tr>\n",
       "<tr><td>H2O cluster status:</td>\n",
       "<td>locked, healthy</td></tr>\n",
       "<tr><td>H2O connection url:</td>\n",
       "<td>http://localhost:54321</td></tr>\n",
       "<tr><td>H2O connection proxy:</td>\n",
       "<td>None</td></tr>\n",
       "<tr><td>H2O internal security:</td>\n",
       "<td>False</td></tr>\n",
       "<tr><td>H2O API Extensions:</td>\n",
       "<td>XGBoost, Algos, AutoML, Core V3, Core V4</td></tr>\n",
       "<tr><td>Python version:</td>\n",
       "<td>3.5.3 final</td></tr></table></div>"
      ],
      "text/plain": [
       "--------------------------  ----------------------------------------\n",
       "H2O cluster uptime:         10 hours 2 mins\n",
       "H2O cluster timezone:       America/Los_Angeles\n",
       "H2O data parsing timezone:  UTC\n",
       "H2O cluster version:        3.18.0.8\n",
       "H2O cluster version age:    16 days\n",
       "H2O cluster name:           H2O_from_python_rhynadesee_7y38e2\n",
       "H2O cluster total nodes:    1\n",
       "H2O cluster free memory:    1.645 Gb\n",
       "H2O cluster total cores:    4\n",
       "H2O cluster allowed cores:  4\n",
       "H2O cluster status:         locked, healthy\n",
       "H2O connection url:         http://localhost:54321\n",
       "H2O connection proxy:\n",
       "H2O internal security:      False\n",
       "H2O API Extensions:         XGBoost, Algos, AutoML, Core V3, Core V4\n",
       "Python version:             3.5.3 final\n",
       "--------------------------  ----------------------------------------"
      ]
     },
     "metadata": {},
     "output_type": "display_data"
    }
   ],
   "source": [
    "h2o.init()"
   ]
  },
  {
   "cell_type": "code",
   "execution_count": 406,
   "metadata": {},
   "outputs": [
    {
     "name": "stdout",
     "output_type": "stream",
     "text": [
      "Parse progress: |█████████████████████████████████████████████████████████| 100%\n"
     ]
    }
   ],
   "source": [
    "data = h2o.H2OFrame(df)"
   ]
  },
  {
   "cell_type": "code",
   "execution_count": 407,
   "metadata": {
    "scrolled": true
   },
   "outputs": [
    {
     "name": "stdout",
     "output_type": "stream",
     "text": [
      "Rows:1088\n",
      "Cols:11\n",
      "\n",
      "\n"
     ]
    },
    {
     "data": {
      "text/html": [
       "<table>\n",
       "<thead>\n",
       "<tr><th>       </th><th>year              </th><th>fips              </th><th>opioid_prescribe_perc  </th><th>Unemployment Rate  </th><th>total_crimes     </th><th>num_bank_loans   </th><th>bank_loan_sum     </th><th>last_year_num_deaths  </th><th>last_year_pop     </th><th>last_year_death_perpop  </th><th>actual_death_perpop  </th></tr>\n",
       "</thead>\n",
       "<tbody>\n",
       "<tr><td>type   </td><td>int               </td><td>int               </td><td>real                   </td><td>real               </td><td>int              </td><td>int              </td><td>int               </td><td>int                   </td><td>int               </td><td>real                    </td><td>real                 </td></tr>\n",
       "<tr><td>mins   </td><td>2011.0            </td><td>1003.0            </td><td>1.658907615            </td><td>3.0                </td><td>0.0              </td><td>1.0              </td><td>402.0             </td><td>10.0                  </td><td>23987.0           </td><td>0.00128213743806        </td><td>0.00130594179774     </td></tr>\n",
       "<tr><td>mean   </td><td>2012.7941176470624</td><td>30585.50183823529 </td><td>6.1581645744972375     </td><td>7.214522058823523  </td><td>20738.29779411763</td><td>53.62959558823528</td><td>10183453.252757357</td><td>135.2968750000002     </td><td>3336115.8318014736</td><td>0.008005373218968034    </td><td>0.008348913888343431 </td></tr>\n",
       "<tr><td>maxs   </td><td>2014.0            </td><td>55139.0           </td><td>13.3763687             </td><td>14.8               </td><td>226646.0         </td><td>1157.0           </td><td>203503560.0       </td><td>1433.0                </td><td>73569438.0        </td><td>0.106750928733          </td><td>0.0759105687564      </td></tr>\n",
       "<tr><td>sigma  </td><td>1.0731662020776522</td><td>14086.390292736374</td><td>1.6383741888343444     </td><td>1.8217308690414664 </td><td>28704.25304279357</td><td>99.83601884908029</td><td>18486863.868775703</td><td>182.60216887688335    </td><td>7044508.997350062 </td><td>0.007033135518609418    </td><td>0.006578158661499517 </td></tr>\n",
       "<tr><td>zeros  </td><td>0                 </td><td>0                 </td><td>0                      </td><td>0                  </td><td>84               </td><td>0                </td><td>0                 </td><td>0                     </td><td>0                 </td><td>0                       </td><td>0                    </td></tr>\n",
       "<tr><td>missing</td><td>0                 </td><td>0                 </td><td>0                      </td><td>0                  </td><td>0                </td><td>0                </td><td>0                 </td><td>0                     </td><td>0                 </td><td>0                       </td><td>0                    </td></tr>\n",
       "<tr><td>0      </td><td>2013.0            </td><td>1043.0            </td><td>7.254989593            </td><td>6.7                </td><td>0.0              </td><td>1.0              </td><td>280000.0          </td><td>15.0                  </td><td>80811.0           </td><td>0.018561829453900003    </td><td>0.0282941111343      </td></tr>\n",
       "<tr><td>1      </td><td>2013.0            </td><td>1073.0            </td><td>7.567118514            </td><td>6.7                </td><td>0.0              </td><td>3.0              </td><td>611500.0          </td><td>233.0                 </td><td>5935311.0         </td><td>0.00392565781304        </td><td>0.00763545398552     </td></tr>\n",
       "<tr><td>2      </td><td>2013.0            </td><td>1089.0            </td><td>7.321607256            </td><td>6.3                </td><td>0.0              </td><td>3.0              </td><td>526600.0          </td><td>17.0                  </td><td>346892.0          </td><td>0.00490066072438        </td><td>0.00513846742354     </td></tr>\n",
       "<tr><td>3      </td><td>2013.0            </td><td>1117.0            </td><td>7.549260405            </td><td>4.6                </td><td>0.0              </td><td>4.0              </td><td>560500.0          </td><td>24.0                  </td><td>204180.0          </td><td>0.0117543344108         </td><td>0.00677457598413     </td></tr>\n",
       "<tr><td>4      </td><td>2013.0            </td><td>4013.0            </td><td>6.954345149            </td><td>6.6                </td><td>191643.0         </td><td>59.0             </td><td>13449514.0        </td><td>1231.0                </td><td>72169416.0        </td><td>0.00170570868968        </td><td>0.00182004924382     </td></tr>\n",
       "<tr><td>5      </td><td>2013.0            </td><td>4019.0            </td><td>6.905993242999999      </td><td>6.8                </td><td>76456.0          </td><td>7.0              </td><td>1795800.0         </td><td>449.0                 </td><td>11958648.0        </td><td>0.00375460503562        </td><td>0.00404536748408     </td></tr>\n",
       "<tr><td>6      </td><td>2013.0            </td><td>4021.0            </td><td>6.400654229            </td><td>8.1                </td><td>14642.0          </td><td>6.0              </td><td>995100.0          </td><td>69.0                  </td><td>1946750.0         </td><td>0.00354436881983        </td><td>0.00331742627435     </td></tr>\n",
       "<tr><td>7      </td><td>2013.0            </td><td>4025.0            </td><td>6.449184886            </td><td>7.7                </td><td>12607.0          </td><td>2.0              </td><td>329000.0          </td><td>53.0                  </td><td>645399.0          </td><td>0.00821197429807        </td><td>0.00936740326443     </td></tr>\n",
       "<tr><td>8      </td><td>2013.0            </td><td>5007.0            </td><td>6.620686182999999      </td><td>5.7                </td><td>10947.0          </td><td>3.0              </td><td>787800.0          </td><td>10.0                  </td><td>237297.0          </td><td>0.004214128286489999    </td><td>0.005983798350119999 </td></tr>\n",
       "<tr><td>9      </td><td>2013.0            </td><td>5119.0            </td><td>7.114789136000001      </td><td>6.6                </td><td>34201.0          </td><td>3.0              </td><td>846700.0          </td><td>58.0                  </td><td>1173852.0         </td><td>0.00494099767262        </td><td>0.00560221236459     </td></tr>\n",
       "</tbody>\n",
       "</table>"
      ]
     },
     "metadata": {},
     "output_type": "display_data"
    }
   ],
   "source": [
    "data.describe()"
   ]
  },
  {
   "cell_type": "code",
   "execution_count": 408,
   "metadata": {
    "collapsed": true
   },
   "outputs": [],
   "source": [
    "# split data into train and test \n",
    "train_con = data['year'] <= 2014\n",
    "test_con = data['year'] == 2014\n",
    "train = data[train_con,:]\n",
    "test = data[test_con,:]"
   ]
  },
  {
   "cell_type": "code",
   "execution_count": 410,
   "metadata": {
    "scrolled": true
   },
   "outputs": [
    {
     "name": "stdout",
     "output_type": "stream",
     "text": [
      "Rows:1088\n",
      "Cols:11\n",
      "\n",
      "\n"
     ]
    },
    {
     "data": {
      "text/html": [
       "<table>\n",
       "<thead>\n",
       "<tr><th>       </th><th>year              </th><th>fips              </th><th>opioid_prescribe_perc  </th><th>Unemployment Rate  </th><th>total_crimes     </th><th>num_bank_loans   </th><th>bank_loan_sum     </th><th>last_year_num_deaths  </th><th>last_year_pop     </th><th>last_year_death_perpop  </th><th>actual_death_perpop  </th></tr>\n",
       "</thead>\n",
       "<tbody>\n",
       "<tr><td>type   </td><td>int               </td><td>int               </td><td>real                   </td><td>real               </td><td>int              </td><td>int              </td><td>int               </td><td>int                   </td><td>int               </td><td>real                    </td><td>real                 </td></tr>\n",
       "<tr><td>mins   </td><td>2011.0            </td><td>1003.0            </td><td>1.658907615            </td><td>3.0                </td><td>0.0              </td><td>1.0              </td><td>402.0             </td><td>10.0                  </td><td>23987.0           </td><td>0.00128213743806        </td><td>0.00130594179774     </td></tr>\n",
       "<tr><td>mean   </td><td>2012.7941176470624</td><td>30585.50183823529 </td><td>6.1581645744972375     </td><td>7.214522058823523  </td><td>20738.29779411763</td><td>53.62959558823528</td><td>10183453.252757357</td><td>135.2968750000002     </td><td>3336115.8318014736</td><td>0.008005373218968034    </td><td>0.008348913888343431 </td></tr>\n",
       "<tr><td>maxs   </td><td>2014.0            </td><td>55139.0           </td><td>13.3763687             </td><td>14.8               </td><td>226646.0         </td><td>1157.0           </td><td>203503560.0       </td><td>1433.0                </td><td>73569438.0        </td><td>0.106750928733          </td><td>0.0759105687564      </td></tr>\n",
       "<tr><td>sigma  </td><td>1.0731662020776522</td><td>14086.390292736374</td><td>1.6383741888343444     </td><td>1.8217308690414664 </td><td>28704.25304279357</td><td>99.83601884908029</td><td>18486863.868775703</td><td>182.60216887688335    </td><td>7044508.997350062 </td><td>0.007033135518609418    </td><td>0.006578158661499517 </td></tr>\n",
       "<tr><td>zeros  </td><td>0                 </td><td>0                 </td><td>0                      </td><td>0                  </td><td>84               </td><td>0                </td><td>0                 </td><td>0                     </td><td>0                 </td><td>0                       </td><td>0                    </td></tr>\n",
       "<tr><td>missing</td><td>0                 </td><td>0                 </td><td>0                      </td><td>0                  </td><td>0                </td><td>0                </td><td>0                 </td><td>0                     </td><td>0                 </td><td>0                       </td><td>0                    </td></tr>\n",
       "<tr><td>0      </td><td>2013.0            </td><td>1043.0            </td><td>7.254989593            </td><td>6.7                </td><td>0.0              </td><td>1.0              </td><td>280000.0          </td><td>15.0                  </td><td>80811.0           </td><td>0.018561829453900003    </td><td>0.0282941111343      </td></tr>\n",
       "<tr><td>1      </td><td>2013.0            </td><td>1073.0            </td><td>7.567118514            </td><td>6.7                </td><td>0.0              </td><td>3.0              </td><td>611500.0          </td><td>233.0                 </td><td>5935311.0         </td><td>0.00392565781304        </td><td>0.00763545398552     </td></tr>\n",
       "<tr><td>2      </td><td>2013.0            </td><td>1089.0            </td><td>7.321607256            </td><td>6.3                </td><td>0.0              </td><td>3.0              </td><td>526600.0          </td><td>17.0                  </td><td>346892.0          </td><td>0.00490066072438        </td><td>0.00513846742354     </td></tr>\n",
       "<tr><td>3      </td><td>2013.0            </td><td>1117.0            </td><td>7.549260405            </td><td>4.6                </td><td>0.0              </td><td>4.0              </td><td>560500.0          </td><td>24.0                  </td><td>204180.0          </td><td>0.0117543344108         </td><td>0.00677457598413     </td></tr>\n",
       "<tr><td>4      </td><td>2013.0            </td><td>4013.0            </td><td>6.954345149            </td><td>6.6                </td><td>191643.0         </td><td>59.0             </td><td>13449514.0        </td><td>1231.0                </td><td>72169416.0        </td><td>0.00170570868968        </td><td>0.00182004924382     </td></tr>\n",
       "<tr><td>5      </td><td>2013.0            </td><td>4019.0            </td><td>6.905993242999999      </td><td>6.8                </td><td>76456.0          </td><td>7.0              </td><td>1795800.0         </td><td>449.0                 </td><td>11958648.0        </td><td>0.00375460503562        </td><td>0.00404536748408     </td></tr>\n",
       "<tr><td>6      </td><td>2013.0            </td><td>4021.0            </td><td>6.400654229            </td><td>8.1                </td><td>14642.0          </td><td>6.0              </td><td>995100.0          </td><td>69.0                  </td><td>1946750.0         </td><td>0.00354436881983        </td><td>0.00331742627435     </td></tr>\n",
       "<tr><td>7      </td><td>2013.0            </td><td>4025.0            </td><td>6.449184886            </td><td>7.7                </td><td>12607.0          </td><td>2.0              </td><td>329000.0          </td><td>53.0                  </td><td>645399.0          </td><td>0.00821197429807        </td><td>0.00936740326443     </td></tr>\n",
       "<tr><td>8      </td><td>2013.0            </td><td>5007.0            </td><td>6.620686182999999      </td><td>5.7                </td><td>10947.0          </td><td>3.0              </td><td>787800.0          </td><td>10.0                  </td><td>237297.0          </td><td>0.004214128286489999    </td><td>0.005983798350119999 </td></tr>\n",
       "<tr><td>9      </td><td>2013.0            </td><td>5119.0            </td><td>7.114789136000001      </td><td>6.6                </td><td>34201.0          </td><td>3.0              </td><td>846700.0          </td><td>58.0                  </td><td>1173852.0         </td><td>0.00494099767262        </td><td>0.00560221236459     </td></tr>\n",
       "</tbody>\n",
       "</table>"
      ]
     },
     "metadata": {},
     "output_type": "display_data"
    }
   ],
   "source": [
    "train.describe()"
   ]
  },
  {
   "cell_type": "code",
   "execution_count": 411,
   "metadata": {},
   "outputs": [],
   "source": [
    "model_columns = list(df.columns.drop(['year', 'fips', 'actual_death_perpop']))\n",
    "target_column = \"actual_death_perpop\""
   ]
  },
  {
   "cell_type": "code",
   "execution_count": 412,
   "metadata": {},
   "outputs": [
    {
     "name": "stdout",
     "output_type": "stream",
     "text": [
      "glm Model Build progress: |███████████████████████████████████████████████| 100%\n",
      "Coefficients: glm coefficients\n",
      "\n"
     ]
    },
    {
     "data": {
      "text/html": [
       "<div style=\"overflow:auto\"><table style=\"width:50%\"><tr><td><b>names</b></td>\n",
       "<td><b>coefficients</b></td>\n",
       "<td><b>std_error</b></td>\n",
       "<td><b>z_value</b></td>\n",
       "<td><b>p_value</b></td>\n",
       "<td><b>standardized_coefficients</b></td></tr>\n",
       "<tr><td>Intercept</td>\n",
       "<td>0.0027525</td>\n",
       "<td>0.0005007</td>\n",
       "<td>5.4973565</td>\n",
       "<td>0.0000000</td>\n",
       "<td>0.0083489</td></tr>\n",
       "<tr><td>opioid_prescribe_perc</td>\n",
       "<td>-0.0000314</td>\n",
       "<td>0.0000548</td>\n",
       "<td>-0.5729403</td>\n",
       "<td>0.5668045</td>\n",
       "<td>-0.0000514</td></tr>\n",
       "<tr><td>Unemployment Rate</td>\n",
       "<td>-0.0001069</td>\n",
       "<td>0.0000491</td>\n",
       "<td>-2.1754644</td>\n",
       "<td>0.0298118</td>\n",
       "<td>-0.0001948</td></tr>\n",
       "<tr><td>total_crimes</td>\n",
       "<td>-0.0000000</td>\n",
       "<td>0.0000000</td>\n",
       "<td>-2.5870930</td>\n",
       "<td>0.0098088</td>\n",
       "<td>-0.0003205</td></tr>\n",
       "<tr><td>num_bank_loans</td>\n",
       "<td>0.0000077</td>\n",
       "<td>0.0000040</td>\n",
       "<td>1.9361323</td>\n",
       "<td>0.0531124</td>\n",
       "<td>0.0007653</td></tr>\n",
       "<tr><td>bank_loan_sum</td>\n",
       "<td>-0.0000000</td>\n",
       "<td>0.0000000</td>\n",
       "<td>-2.0086497</td>\n",
       "<td>0.0448231</td>\n",
       "<td>-0.0008024</td></tr>\n",
       "<tr><td>last_year_num_deaths</td>\n",
       "<td>0.0000024</td>\n",
       "<td>0.0000010</td>\n",
       "<td>2.4848955</td>\n",
       "<td>0.0131096</td>\n",
       "<td>0.0004427</td></tr>\n",
       "<tr><td>last_year_pop</td>\n",
       "<td>-0.0000000</td>\n",
       "<td>0.0000000</td>\n",
       "<td>-2.0294605</td>\n",
       "<td>0.0426565</td>\n",
       "<td>-0.0003816</td></tr>\n",
       "<tr><td>last_year_death_perpop</td>\n",
       "<td>0.8339411</td>\n",
       "<td>0.0131365</td>\n",
       "<td>63.4828970</td>\n",
       "<td>0.0</td>\n",
       "<td>0.0058652</td></tr></table></div>"
      ],
      "text/plain": [
       "names                   coefficients    std_error    z_value    p_value      standardized_coefficients\n",
       "----------------------  --------------  -----------  ---------  -----------  ---------------------------\n",
       "Intercept               0.00275251      0.000500697  5.49736    4.81053e-08  0.00834891\n",
       "opioid_prescribe_perc   -3.13733e-05    5.47584e-05  -0.57294   0.566804     -5.14012e-05\n",
       "Unemployment Rate       -0.000106907    4.91424e-05  -2.17546   0.0298118    -0.000194757\n",
       "total_crimes            -1.11643e-08    4.31539e-09  -2.58709   0.00980884   -0.000320463\n",
       "num_bank_loans          7.66549e-06     3.95918e-06  1.93613    0.0531124    0.000765292\n",
       "bank_loan_sum           -4.34054e-11    2.16092e-11  -2.00865   0.0448231    -0.00080243\n",
       "last_year_num_deaths    2.42464e-06     9.75752e-07  2.4849     0.0131096    0.000442745\n",
       "last_year_pop           -5.41701e-11    2.66919e-11  -2.02946   0.0426565    -0.000381602\n",
       "last_year_death_perpop  0.833941        0.0131365    63.4829    0            0.00586522"
      ]
     },
     "metadata": {},
     "output_type": "display_data"
    },
    {
     "name": "stdout",
     "output_type": "stream",
     "text": [
      "\n"
     ]
    }
   ],
   "source": [
    "#glm\n",
    "glm = H2OGeneralizedLinearEstimator(family = 'gaussian', lambda_ = 0, remove_collinear_columns = True, compute_p_values = True)\n",
    "glm.train(x = model_columns, \n",
    "          y = target_column, \n",
    "          training_frame = train)\n",
    "glm.pprint_coef()"
   ]
  },
  {
   "cell_type": "code",
   "execution_count": 413,
   "metadata": {},
   "outputs": [
    {
     "name": "stdout",
     "output_type": "stream",
     "text": [
      "\n",
      "ModelMetricsRegressionGLM: glm\n",
      "** Reported on test data. **\n",
      "\n",
      "MSE: 7.38525685775707e-06\n",
      "RMSE: 0.0027175829072462665\n",
      "MAE: 0.0018359719528113806\n",
      "RMSLE: 0.0026744817563917915\n",
      "R^2: 0.8154644387280567\n",
      "Mean Residual Deviance: 7.38525685775707e-06\n",
      "Null degrees of freedom: 358\n",
      "Residual degrees of freedom: 350\n",
      "Null deviance: 0.014463958071495326\n",
      "Residual deviance: 0.002651307211934788\n",
      "AIC: -3203.1550584648353\n"
     ]
    },
    {
     "data": {
      "text/plain": []
     },
     "execution_count": 413,
     "metadata": {},
     "output_type": "execute_result"
    }
   ],
   "source": [
    "glm.model_performance(test)"
   ]
  },
  {
   "cell_type": "code",
   "execution_count": 414,
   "metadata": {},
   "outputs": [
    {
     "name": "stdout",
     "output_type": "stream",
     "text": [
      "glm prediction progress: |████████████████████████████████████████████████| 100%\n"
     ]
    }
   ],
   "source": [
    "z = glm.predict(test)"
   ]
  },
  {
   "cell_type": "code",
   "execution_count": 443,
   "metadata": {},
   "outputs": [
    {
     "name": "stderr",
     "output_type": "stream",
     "text": [
      "//anaconda/lib/python3.5/site-packages/matplotlib/cbook/deprecation.py:107: MatplotlibDeprecationWarning: Passing one of 'on', 'true', 'off', 'false' as a boolean is deprecated; use an actual boolean (True/False) instead.\n",
      "  warnings.warn(message, mplDeprecation, stacklevel=1)\n"
     ]
    },
    {
     "data": {
      "image/png": "[encoded data removed]",
      "text/plain": [
       "<Figure size 1008x720 with 1 Axes>"
      ]
     },
     "metadata": {},
     "output_type": "display_data"
    }
   ],
   "source": [
    "glm.std_coef_plot()"
   ]
  },
  {
   "cell_type": "code",
   "execution_count": 415,
   "metadata": {
    "collapsed": true,
    "scrolled": true
   },
   "outputs": [],
   "source": [
    "results = test.cbind(z)"
   ]
  },
  {
   "cell_type": "code",
   "execution_count": 445,
   "metadata": {},
   "outputs": [
    {
     "data": {
      "text/html": [
       "<table>\n",
       "<thead>\n",
       "<tr><th style=\"text-align: right;\">  year</th><th style=\"text-align: right;\">  fips</th><th style=\"text-align: right;\">  opioid_prescribe_perc</th><th style=\"text-align: right;\">  Unemployment Rate</th><th style=\"text-align: right;\">  total_crimes</th><th style=\"text-align: right;\">  num_bank_loans</th><th style=\"text-align: right;\">   bank_loan_sum</th><th style=\"text-align: right;\">  last_year_num_deaths</th><th style=\"text-align: right;\">   last_year_pop</th><th style=\"text-align: right;\">  last_year_death_perpop</th><th style=\"text-align: right;\">  actual_death_perpop</th><th style=\"text-align: right;\">   predict</th><th style=\"text-align: right;\">     StdErr</th></tr>\n",
       "</thead>\n",
       "<tbody>\n",
       "<tr><td style=\"text-align: right;\">  2014</td><td style=\"text-align: right;\">  1003</td><td style=\"text-align: right;\">                9.50442</td><td style=\"text-align: right;\">                6.1</td><td style=\"text-align: right;\">          4688</td><td style=\"text-align: right;\">               1</td><td style=\"text-align: right;\"> 99000          </td><td style=\"text-align: right;\">                    31</td><td style=\"text-align: right;\">400222          </td><td style=\"text-align: right;\">              0.0077457 </td><td style=\"text-align: right;\">           0.00834524</td><td style=\"text-align: right;\">0.00826616</td><td style=\"text-align: right;\">0.000214682</td></tr>\n",
       "<tr><td style=\"text-align: right;\">  2014</td><td style=\"text-align: right;\">  1073</td><td style=\"text-align: right;\">                7.82395</td><td style=\"text-align: right;\">                6.3</td><td style=\"text-align: right;\">          9412</td><td style=\"text-align: right;\">               2</td><td style=\"text-align: right;\">564050          </td><td style=\"text-align: right;\">                   555</td><td style=\"text-align: right;\">     7.26872e+06</td><td style=\"text-align: right;\">              0.00763545</td><td style=\"text-align: right;\">           0.00629127</td><td style=\"text-align: right;\">0.00903875</td><td style=\"text-align: right;\">0.000400259</td></tr>\n",
       "<tr><td style=\"text-align: right;\">  2014</td><td style=\"text-align: right;\">  1089</td><td style=\"text-align: right;\">                7.21161</td><td style=\"text-align: right;\">                6.2</td><td style=\"text-align: right;\">          1696</td><td style=\"text-align: right;\">               4</td><td style=\"text-align: right;\">     1.18618e+06</td><td style=\"text-align: right;\">                    18</td><td style=\"text-align: right;\">350299          </td><td style=\"text-align: right;\">              0.00513847</td><td style=\"text-align: right;\">           0.00821323</td><td style=\"text-align: right;\">0.00613352</td><td style=\"text-align: right;\">0.000143483</td></tr>\n",
       "<tr><td style=\"text-align: right;\">  2014</td><td style=\"text-align: right;\">  1117</td><td style=\"text-align: right;\">                7.84651</td><td style=\"text-align: right;\">                4.5</td><td style=\"text-align: right;\">          2613</td><td style=\"text-align: right;\">               2</td><td style=\"text-align: right;\">314000          </td><td style=\"text-align: right;\">                    56</td><td style=\"text-align: right;\">826620          </td><td style=\"text-align: right;\">              0.00677458</td><td style=\"text-align: right;\">           0.00862428</td><td style=\"text-align: right;\">0.00773839</td><td style=\"text-align: right;\">0.000194192</td></tr>\n",
       "<tr><td style=\"text-align: right;\">  2014</td><td style=\"text-align: right;\">  1125</td><td style=\"text-align: right;\">                7.13979</td><td style=\"text-align: right;\">                5.9</td><td style=\"text-align: right;\">          3885</td><td style=\"text-align: right;\">               3</td><td style=\"text-align: right;\">582120          </td><td style=\"text-align: right;\">                    20</td><td style=\"text-align: right;\">202212          </td><td style=\"text-align: right;\">              0.00989061</td><td style=\"text-align: right;\">           0.00882457</td><td style=\"text-align: right;\">0.0101378 </td><td style=\"text-align: right;\">0.000135422</td></tr>\n",
       "<tr><td style=\"text-align: right;\">  2014</td><td style=\"text-align: right;\">  4003</td><td style=\"text-align: right;\">                6.98438</td><td style=\"text-align: right;\">                8.4</td><td style=\"text-align: right;\">          6311</td><td style=\"text-align: right;\">               2</td><td style=\"text-align: right;\">259600          </td><td style=\"text-align: right;\">                    10</td><td style=\"text-align: right;\">127448          </td><td style=\"text-align: right;\">              0.00784634</td><td style=\"text-align: right;\">           0.0110736 </td><td style=\"text-align: right;\">0.0081297 </td><td style=\"text-align: right;\">0.000132006</td></tr>\n",
       "<tr><td style=\"text-align: right;\">  2014</td><td style=\"text-align: right;\">  4013</td><td style=\"text-align: right;\">                7.03009</td><td style=\"text-align: right;\">                5.8</td><td style=\"text-align: right;\">        188025</td><td style=\"text-align: right;\">              79</td><td style=\"text-align: right;\">     1.90815e+07</td><td style=\"text-align: right;\">                  1339</td><td style=\"text-align: right;\">     7.35694e+07</td><td style=\"text-align: right;\">              0.00182005</td><td style=\"text-align: right;\">           0.00223931</td><td style=\"text-align: right;\">0.0003692 </td><td style=\"text-align: right;\">0.000945557</td></tr>\n",
       "<tr><td style=\"text-align: right;\">  2014</td><td style=\"text-align: right;\">  4015</td><td style=\"text-align: right;\">                8.37062</td><td style=\"text-align: right;\">                8.7</td><td style=\"text-align: right;\">         16667</td><td style=\"text-align: right;\">               1</td><td style=\"text-align: right;\">417000          </td><td style=\"text-align: right;\">                   115</td><td style=\"text-align: right;\">     1.01680e+06</td><td style=\"text-align: right;\">              0.0113099 </td><td style=\"text-align: right;\">           0.0113316 </td><td style=\"text-align: right;\">0.0110189 </td><td style=\"text-align: right;\">0.000172084</td></tr>\n",
       "<tr><td style=\"text-align: right;\">  2014</td><td style=\"text-align: right;\">  4019</td><td style=\"text-align: right;\">                6.81455</td><td style=\"text-align: right;\">                6  </td><td style=\"text-align: right;\">         60341</td><td style=\"text-align: right;\">               6</td><td style=\"text-align: right;\">     1.73096e+06</td><td style=\"text-align: right;\">                   447</td><td style=\"text-align: right;\">     1.10497e+07</td><td style=\"text-align: right;\">              0.00404537</td><td style=\"text-align: right;\">           0.00379529</td><td style=\"text-align: right;\">0.00505332</td><td style=\"text-align: right;\">0.000239779</td></tr>\n",
       "<tr><td style=\"text-align: right;\">  2014</td><td style=\"text-align: right;\">  4021</td><td style=\"text-align: right;\">                5.95249</td><td style=\"text-align: right;\">                7  </td><td style=\"text-align: right;\">         14976</td><td style=\"text-align: right;\">               4</td><td style=\"text-align: right;\">960924          </td><td style=\"text-align: right;\">                    40</td><td style=\"text-align: right;\">     1.20575e+06</td><td style=\"text-align: right;\">              0.00331743</td><td style=\"text-align: right;\">           0.00378766</td><td style=\"text-align: right;\">0.00443737</td><td style=\"text-align: right;\">0.000124719</td></tr>\n",
       "</tbody>\n",
       "</table>"
      ]
     },
     "metadata": {},
     "output_type": "display_data"
    },
    {
     "data": {
      "text/plain": []
     },
     "execution_count": 445,
     "metadata": {},
     "output_type": "execute_result"
    }
   ],
   "source": [
    "results"
   ]
  },
  {
   "cell_type": "code",
   "execution_count": 442,
   "metadata": {},
   "outputs": [
    {
     "name": "stdout",
     "output_type": "stream",
     "text": [
      "Export File progress: |███████████████████████████████████████████████████| 100%\n"
     ]
    }
   ],
   "source": [
    "h2o.export_file(results, path = 'results_5.csv')"
   ]
  },
  {
   "cell_type": "code",
   "execution_count": 444,
   "metadata": {},
   "outputs": [],
   "source": [
    "result_1 = results.as_data_frame()"
   ]
  },
  {
   "cell_type": "code",
   "execution_count": 455,
   "metadata": {},
   "outputs": [
    {
     "data": {
      "text/html": [
       "<div>\n",
       "<style scoped>\n",
       "    .dataframe tbody tr th:only-of-type {\n",
       "        vertical-align: middle;\n",
       "    }\n",
       "\n",
       "    .dataframe tbody tr th {\n",
       "        vertical-align: top;\n",
       "    }\n",
       "\n",
       "    .dataframe thead th {\n",
       "        text-align: right;\n",
       "    }\n",
       "</style>\n",
       "<table border=\"1\" class=\"dataframe\">\n",
       "  <thead>\n",
       "    <tr style=\"text-align: right;\">\n",
       "      <th></th>\n",
       "      <th>actual top 10 counties with highest opioid death rates</th>\n",
       "      <th>predicted top 10 counties with highest opioid death rates</th>\n",
       "    </tr>\n",
       "  </thead>\n",
       "  <tbody>\n",
       "    <tr>\n",
       "      <th>0</th>\n",
       "      <td>21071</td>\n",
       "      <td>39047</td>\n",
       "    </tr>\n",
       "    <tr>\n",
       "      <th>1</th>\n",
       "      <td>39047</td>\n",
       "      <td>21071</td>\n",
       "    </tr>\n",
       "    <tr>\n",
       "      <th>2</th>\n",
       "      <td>21235</td>\n",
       "      <td>33007</td>\n",
       "    </tr>\n",
       "    <tr>\n",
       "      <th>3</th>\n",
       "      <td>39015</td>\n",
       "      <td>21235</td>\n",
       "    </tr>\n",
       "    <tr>\n",
       "      <th>4</th>\n",
       "      <td>33007</td>\n",
       "      <td>47021</td>\n",
       "    </tr>\n",
       "    <tr>\n",
       "      <th>5</th>\n",
       "      <td>54011</td>\n",
       "      <td>54099</td>\n",
       "    </tr>\n",
       "    <tr>\n",
       "      <th>6</th>\n",
       "      <td>47021</td>\n",
       "      <td>39101</td>\n",
       "    </tr>\n",
       "    <tr>\n",
       "      <th>7</th>\n",
       "      <td>54081</td>\n",
       "      <td>54081</td>\n",
       "    </tr>\n",
       "    <tr>\n",
       "      <th>8</th>\n",
       "      <td>33017</td>\n",
       "      <td>18177</td>\n",
       "    </tr>\n",
       "    <tr>\n",
       "      <th>9</th>\n",
       "      <td>42005</td>\n",
       "      <td>39015</td>\n",
       "    </tr>\n",
       "  </tbody>\n",
       "</table>\n",
       "</div>"
      ],
      "text/plain": [
       "   actual top 10 counties with highest opioid death rates  \\\n",
       "0                                              21071        \n",
       "1                                              39047        \n",
       "2                                              21235        \n",
       "3                                              39015        \n",
       "4                                              33007        \n",
       "5                                              54011        \n",
       "6                                              47021        \n",
       "7                                              54081        \n",
       "8                                              33017        \n",
       "9                                              42005        \n",
       "\n",
       "   predicted top 10 counties with highest opioid death rates  \n",
       "0                                              39047          \n",
       "1                                              21071          \n",
       "2                                              33007          \n",
       "3                                              21235          \n",
       "4                                              47021          \n",
       "5                                              54099          \n",
       "6                                              39101          \n",
       "7                                              54081          \n",
       "8                                              18177          \n",
       "9                                              39015          "
      ]
     },
     "execution_count": 455,
     "metadata": {},
     "output_type": "execute_result"
    }
   ],
   "source": [
    "actual_top_10 = result_1.sort_values(by='actual_death_perpop', ascending=False)[['fips']].head(10).reset_index(drop=True)\n",
    "predicted_top_10 = result_1.sort_values(by='predict', ascending=False)[['fips']].head(10).reset_index(drop=True)\n",
    "\n",
    "table = pd.concat([actual_top_10, predicted_top_10], axis=1)\n",
    "table.columns = ['actual top 10 counties with highest opioid death rates','predicted top 10 counties with highest opioid death rates']\n",
    "table"
   ]
  },
  {
   "cell_type": "code",
   "execution_count": 427,
   "metadata": {},
   "outputs": [
    {
     "name": "stderr",
     "output_type": "stream",
     "text": [
      "//anaconda/lib/python3.5/site-packages/ipykernel/__main__.py:3: SettingWithCopyWarning: \n",
      "A value is trying to be set on a copy of a slice from a DataFrame.\n",
      "Try using .loc[row_indexer,col_indexer] = value instead\n",
      "\n",
      "See the caveats in the documentation: http://pandas.pydata.org/pandas-docs/stable/indexing.html#indexing-view-versus-copy\n",
      "  app.launch_new_instance()\n"
     ]
    }
   ],
   "source": [
    "data_original = y[y['year']==2013]\n",
    "data_original = y[['year','fips','actual_death_perpop']]\n",
    "data_original['year'] = data_original['year'] + 1"
   ]
  },
  {
   "cell_type": "code",
   "execution_count": 438,
   "metadata": {
    "scrolled": true
   },
   "outputs": [
    {
     "data": {
      "text/html": [
       "<div>\n",
       "<style scoped>\n",
       "    .dataframe tbody tr th:only-of-type {\n",
       "        vertical-align: middle;\n",
       "    }\n",
       "\n",
       "    .dataframe tbody tr th {\n",
       "        vertical-align: top;\n",
       "    }\n",
       "\n",
       "    .dataframe thead th {\n",
       "        text-align: right;\n",
       "    }\n",
       "</style>\n",
       "<table border=\"1\" class=\"dataframe\">\n",
       "  <thead>\n",
       "    <tr style=\"text-align: right;\">\n",
       "      <th></th>\n",
       "      <th>year</th>\n",
       "      <th>fips</th>\n",
       "      <th>opioid_prescribe_perc</th>\n",
       "      <th>Unemployment Rate</th>\n",
       "      <th>total_crimes</th>\n",
       "      <th>num_bank_loans</th>\n",
       "      <th>bank_loan_sum</th>\n",
       "      <th>last_year_num_deaths</th>\n",
       "      <th>last_year_pop</th>\n",
       "      <th>last_year_death_perpop</th>\n",
       "      <th>actual_death_perpop_x</th>\n",
       "      <th>predict</th>\n",
       "      <th>StdErr</th>\n",
       "      <th>actual_death_perpop_y</th>\n",
       "    </tr>\n",
       "  </thead>\n",
       "  <tbody>\n",
       "    <tr>\n",
       "      <th>0</th>\n",
       "      <td>2014</td>\n",
       "      <td>01073</td>\n",
       "      <td>7.823955</td>\n",
       "      <td>6.3</td>\n",
       "      <td>9412</td>\n",
       "      <td>2</td>\n",
       "      <td>564050</td>\n",
       "      <td>555</td>\n",
       "      <td>7268723</td>\n",
       "      <td>0.007635</td>\n",
       "      <td>0.006291</td>\n",
       "      <td>0.009039</td>\n",
       "      <td>0.000400</td>\n",
       "      <td>0.007635</td>\n",
       "    </tr>\n",
       "    <tr>\n",
       "      <th>1</th>\n",
       "      <td>2014</td>\n",
       "      <td>01089</td>\n",
       "      <td>7.211613</td>\n",
       "      <td>6.2</td>\n",
       "      <td>1696</td>\n",
       "      <td>4</td>\n",
       "      <td>1186175</td>\n",
       "      <td>18</td>\n",
       "      <td>350299</td>\n",
       "      <td>0.005138</td>\n",
       "      <td>0.008213</td>\n",
       "      <td>0.006134</td>\n",
       "      <td>0.000143</td>\n",
       "      <td>0.005138</td>\n",
       "    </tr>\n",
       "    <tr>\n",
       "      <th>2</th>\n",
       "      <td>2014</td>\n",
       "      <td>01117</td>\n",
       "      <td>7.846508</td>\n",
       "      <td>4.5</td>\n",
       "      <td>2613</td>\n",
       "      <td>2</td>\n",
       "      <td>314000</td>\n",
       "      <td>56</td>\n",
       "      <td>826620</td>\n",
       "      <td>0.006775</td>\n",
       "      <td>0.008624</td>\n",
       "      <td>0.007738</td>\n",
       "      <td>0.000194</td>\n",
       "      <td>0.006775</td>\n",
       "    </tr>\n",
       "  </tbody>\n",
       "</table>\n",
       "</div>"
      ],
      "text/plain": [
       "   year   fips  opioid_prescribe_perc  Unemployment Rate  total_crimes  \\\n",
       "0  2014  01073               7.823955                6.3          9412   \n",
       "1  2014  01089               7.211613                6.2          1696   \n",
       "2  2014  01117               7.846508                4.5          2613   \n",
       "\n",
       "   num_bank_loans  bank_loan_sum  last_year_num_deaths  last_year_pop  \\\n",
       "0               2         564050                   555        7268723   \n",
       "1               4        1186175                    18         350299   \n",
       "2               2         314000                    56         826620   \n",
       "\n",
       "   last_year_death_perpop  actual_death_perpop_x   predict    StdErr  \\\n",
       "0                0.007635               0.006291  0.009039  0.000400   \n",
       "1                0.005138               0.008213  0.006134  0.000143   \n",
       "2                0.006775               0.008624  0.007738  0.000194   \n",
       "\n",
       "   actual_death_perpop_y  \n",
       "0               0.007635  \n",
       "1               0.005138  \n",
       "2               0.006775  "
      ]
     },
     "execution_count": 438,
     "metadata": {},
     "output_type": "execute_result"
    }
   ],
   "source": [
    "output = pd.merge(result_1, data_original,how='inner',on=['year', 'fips'])\n",
    "output.head(3)"
   ]
  },
  {
   "cell_type": "code",
   "execution_count": 439,
   "metadata": {},
   "outputs": [
    {
     "data": {
      "text/html": [
       "<div>\n",
       "<style scoped>\n",
       "    .dataframe tbody tr th:only-of-type {\n",
       "        vertical-align: middle;\n",
       "    }\n",
       "\n",
       "    .dataframe tbody tr th {\n",
       "        vertical-align: top;\n",
       "    }\n",
       "\n",
       "    .dataframe thead th {\n",
       "        text-align: right;\n",
       "    }\n",
       "</style>\n",
       "<table border=\"1\" class=\"dataframe\">\n",
       "  <thead>\n",
       "    <tr style=\"text-align: right;\">\n",
       "      <th></th>\n",
       "      <th>year</th>\n",
       "      <th>fips</th>\n",
       "      <th>opioid_prescribe_perc</th>\n",
       "      <th>Unemployment Rate</th>\n",
       "      <th>total_crimes</th>\n",
       "      <th>num_bank_loans</th>\n",
       "      <th>bank_loan_sum</th>\n",
       "      <th>last_year_num_deaths</th>\n",
       "      <th>last_year_pop</th>\n",
       "      <th>last_year_death_perpop</th>\n",
       "      <th>actual_death_perpop_x</th>\n",
       "      <th>predict</th>\n",
       "      <th>StdErr</th>\n",
       "      <th>actual_death_perpop_y</th>\n",
       "      <th>delta</th>\n",
       "    </tr>\n",
       "  </thead>\n",
       "  <tbody>\n",
       "    <tr>\n",
       "      <th>0</th>\n",
       "      <td>2014</td>\n",
       "      <td>01073</td>\n",
       "      <td>7.823955</td>\n",
       "      <td>6.3</td>\n",
       "      <td>9412</td>\n",
       "      <td>2</td>\n",
       "      <td>564050</td>\n",
       "      <td>555</td>\n",
       "      <td>7268723</td>\n",
       "      <td>0.007635</td>\n",
       "      <td>0.006291</td>\n",
       "      <td>0.009039</td>\n",
       "      <td>0.000400</td>\n",
       "      <td>0.007635</td>\n",
       "      <td>0.183787</td>\n",
       "    </tr>\n",
       "    <tr>\n",
       "      <th>1</th>\n",
       "      <td>2014</td>\n",
       "      <td>01089</td>\n",
       "      <td>7.211613</td>\n",
       "      <td>6.2</td>\n",
       "      <td>1696</td>\n",
       "      <td>4</td>\n",
       "      <td>1186175</td>\n",
       "      <td>18</td>\n",
       "      <td>350299</td>\n",
       "      <td>0.005138</td>\n",
       "      <td>0.008213</td>\n",
       "      <td>0.006134</td>\n",
       "      <td>0.000143</td>\n",
       "      <td>0.005138</td>\n",
       "      <td>0.193648</td>\n",
       "    </tr>\n",
       "    <tr>\n",
       "      <th>2</th>\n",
       "      <td>2014</td>\n",
       "      <td>01117</td>\n",
       "      <td>7.846508</td>\n",
       "      <td>4.5</td>\n",
       "      <td>2613</td>\n",
       "      <td>2</td>\n",
       "      <td>314000</td>\n",
       "      <td>56</td>\n",
       "      <td>826620</td>\n",
       "      <td>0.006775</td>\n",
       "      <td>0.008624</td>\n",
       "      <td>0.007738</td>\n",
       "      <td>0.000194</td>\n",
       "      <td>0.006775</td>\n",
       "      <td>0.142269</td>\n",
       "    </tr>\n",
       "    <tr>\n",
       "      <th>3</th>\n",
       "      <td>2014</td>\n",
       "      <td>01125</td>\n",
       "      <td>7.139786</td>\n",
       "      <td>5.9</td>\n",
       "      <td>3885</td>\n",
       "      <td>3</td>\n",
       "      <td>582120</td>\n",
       "      <td>20</td>\n",
       "      <td>202212</td>\n",
       "      <td>0.009891</td>\n",
       "      <td>0.008825</td>\n",
       "      <td>0.010138</td>\n",
       "      <td>0.000135</td>\n",
       "      <td>0.009891</td>\n",
       "      <td>0.024996</td>\n",
       "    </tr>\n",
       "    <tr>\n",
       "      <th>4</th>\n",
       "      <td>2014</td>\n",
       "      <td>04013</td>\n",
       "      <td>7.030094</td>\n",
       "      <td>5.8</td>\n",
       "      <td>188025</td>\n",
       "      <td>79</td>\n",
       "      <td>19081535</td>\n",
       "      <td>1339</td>\n",
       "      <td>73569438</td>\n",
       "      <td>0.001820</td>\n",
       "      <td>0.002239</td>\n",
       "      <td>0.000369</td>\n",
       "      <td>0.000946</td>\n",
       "      <td>0.001820</td>\n",
       "      <td>-0.797149</td>\n",
       "    </tr>\n",
       "  </tbody>\n",
       "</table>\n",
       "</div>"
      ],
      "text/plain": [
       "   year   fips  opioid_prescribe_perc  Unemployment Rate  total_crimes  \\\n",
       "0  2014  01073               7.823955                6.3          9412   \n",
       "1  2014  01089               7.211613                6.2          1696   \n",
       "2  2014  01117               7.846508                4.5          2613   \n",
       "3  2014  01125               7.139786                5.9          3885   \n",
       "4  2014  04013               7.030094                5.8        188025   \n",
       "\n",
       "   num_bank_loans  bank_loan_sum  last_year_num_deaths  last_year_pop  \\\n",
       "0               2         564050                   555        7268723   \n",
       "1               4        1186175                    18         350299   \n",
       "2               2         314000                    56         826620   \n",
       "3               3         582120                    20         202212   \n",
       "4              79       19081535                  1339       73569438   \n",
       "\n",
       "   last_year_death_perpop  actual_death_perpop_x   predict    StdErr  \\\n",
       "0                0.007635               0.006291  0.009039  0.000400   \n",
       "1                0.005138               0.008213  0.006134  0.000143   \n",
       "2                0.006775               0.008624  0.007738  0.000194   \n",
       "3                0.009891               0.008825  0.010138  0.000135   \n",
       "4                0.001820               0.002239  0.000369  0.000946   \n",
       "\n",
       "   actual_death_perpop_y     delta  \n",
       "0               0.007635  0.183787  \n",
       "1               0.005138  0.193648  \n",
       "2               0.006775  0.142269  \n",
       "3               0.009891  0.024996  \n",
       "4               0.001820 -0.797149  "
      ]
     },
     "execution_count": 439,
     "metadata": {},
     "output_type": "execute_result"
    }
   ],
   "source": [
    "output['delta'] = (output['predict'] - output['actual_death_perpop_y']) / output['actual_death_perpop_y']\n",
    "output.head()"
   ]
  },
  {
   "cell_type": "code",
   "execution_count": 440,
   "metadata": {
    "collapsed": true
   },
   "outputs": [],
   "source": [
    "output.to_csv('FINAL_FINAL_2014.csv')"
   ]
  },
  {
   "cell_type": "code",
   "execution_count": null,
   "metadata": {
    "collapsed": true
   },
   "outputs": [],
   "source": []
  },
  {
   "cell_type": "code",
   "execution_count": null,
   "metadata": {
    "collapsed": true
   },
   "outputs": [],
   "source": []
  },
  {
   "cell_type": "code",
   "execution_count": null,
   "metadata": {
    "collapsed": true
   },
   "outputs": [],
   "source": []
  },
  {
   "cell_type": "code",
   "execution_count": null,
   "metadata": {
    "collapsed": true
   },
   "outputs": [],
   "source": []
  },
  {
   "cell_type": "code",
   "execution_count": null,
   "metadata": {
    "collapsed": true
   },
   "outputs": [],
   "source": []
  },
  {
   "cell_type": "code",
   "execution_count": null,
   "metadata": {
    "collapsed": true
   },
   "outputs": [],
   "source": []
  },
  {
   "cell_type": "code",
   "execution_count": 239,
   "metadata": {
    "scrolled": false
   },
   "outputs": [
    {
     "data": {
      "image/png": "[encoded data removed]",
      "text/plain": [
       "<Figure size 1080x1080 with 25 Axes>"
      ]
     },
     "metadata": {},
     "output_type": "display_data"
    }
   ],
   "source": [
    "fig, axes = plt.subplots(nrows=5, ncols=5,  figsize=(15,15))\n",
    "\n",
    "for i, fips in enumerate(x1.fips.unique()):\n",
    "    if i <= 4:\n",
    "        x1[x1['fips'] == fips].plot(x='year', y='opioid_prescribe_perc',ax=axes[0,i])\n",
    "    elif i <= 9:\n",
    "        x1[x1['fips'] == fips].plot(x='year', y='opioid_prescribe_perc',ax=axes[1,9-i])  \n",
    "    elif i <= 14:\n",
    "        x1[x1['fips'] == fips].plot(x='year', y='opioid_prescribe_perc',ax=axes[2,14-i])  \n",
    "    elif i <= 19:\n",
    "        x1[x1['fips'] == fips].plot(x='year', y='opioid_prescribe_perc',ax=axes[3,19-i])  \n",
    "    elif i <= 24:\n",
    "        x1[x1['fips'] == fips].plot(x='year', y='opioid_prescribe_perc',ax=axes[4,24-i])  \n"
   ]
  },
  {
   "cell_type": "code",
   "execution_count": null,
   "metadata": {
    "collapsed": true
   },
   "outputs": [],
   "source": []
  },
  {
   "cell_type": "code",
   "execution_count": 241,
   "metadata": {
    "collapsed": true,
    "scrolled": true
   },
   "outputs": [],
   "source": [
    "df.to_csv('final.csv')"
   ]
  }
 ],
 "metadata": {
  "anaconda-cloud": {},
  "kernelspec": {
   "display_name": "Python [conda env:anaconda]",
   "language": "python",
   "name": "conda-env-anaconda-py"
  },
  "language_info": {
   "codemirror_mode": {
    "name": "ipython",
    "version": 3
   },
   "file_extension": ".py",
   "mimetype": "text/x-python",
   "name": "python",
   "nbconvert_exporter": "python",
   "pygments_lexer": "ipython3",
   "version": "3.5.3"
  }
 },
 "nbformat": 4,
 "nbformat_minor": 2
}
